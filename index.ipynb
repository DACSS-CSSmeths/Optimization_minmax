{
 "cells": [
  {
   "cell_type": "markdown",
   "id": "e94c1246",
   "metadata": {},
   "source": [
    "<center><img src=\"https://github.com/DACSS-CSSmeths/guidelines/blob/main/pics/small_logo_ccs_meths.jpg?raw=true\" width=\"700\"/></center>\n",
    "\n",
    "_____\n",
    "<a id='home'></a>\n",
    "\n",
    "\n",
    "# Introduction to Optimization for Decision Making\n"
   ]
  },
  {
   "cell_type": "code",
   "execution_count": 1,
   "id": "4e38af10",
   "metadata": {
    "scrolled": true
   },
   "outputs": [
    {
     "data": {
      "text/html": [
       "<iframe src=\"https://docs.google.com/presentation/d/e/2PACX-1vQd57TQqUwqnezWdbAKiCDilZqzYd6rkK0kLeh-wl17L-sc1aAZSnhQZ_Ad0eSO8435LBje7hZqu6Bq/embed?start=false&loop=false&delayms=3000\" frameborder=\"0\" width=\"960\" height=\"569\" allowfullscreen=\"true\" mozallowfullscreen=\"true\" webkitallowfullscreen=\"true\"></iframe>\n"
      ],
      "text/plain": [
       "<IPython.core.display.HTML object>"
      ]
     },
     "metadata": {},
     "output_type": "display_data"
    }
   ],
   "source": [
    "%%html\n",
    "<iframe src=\"https://docs.google.com/presentation/d/e/2PACX-1vQd57TQqUwqnezWdbAKiCDilZqzYd6rkK0kLeh-wl17L-sc1aAZSnhQZ_Ad0eSO8435LBje7hZqu6Bq/embed?start=false&loop=false&delayms=3000\" frameborder=\"0\" width=\"960\" height=\"569\" allowfullscreen=\"true\" mozallowfullscreen=\"true\" webkitallowfullscreen=\"true\"></iframe>"
   ]
  },
  {
   "cell_type": "markdown",
   "id": "869a5ade-2e6f-4ccd-8fd6-b4f276cff22f",
   "metadata": {},
   "source": [
    "# Part 1: Maximization/Minimization "
   ]
  },
  {
   "cell_type": "markdown",
   "id": "1f02e23b",
   "metadata": {},
   "source": [
    "Please, go to your _environment_ in Anacoda Navigator to install **glpk** and **pulp**  before runing the codes below.\n",
    "Then, call the library:"
   ]
  },
  {
   "cell_type": "code",
   "execution_count": 2,
   "id": "2d2e3d99-7100-4941-aad8-57b178798e94",
   "metadata": {},
   "outputs": [],
   "source": [
    "# !pip show glpk pulp\n",
    "# !pip install glpk pulp"
   ]
  },
  {
   "cell_type": "code",
   "execution_count": 3,
   "id": "a105dc9b-d105-49d3-8093-96d03eca9530",
   "metadata": {},
   "outputs": [],
   "source": [
    "import pulp as pp"
   ]
  },
  {
   "cell_type": "markdown",
   "id": "dd461c8a-8a20-4a93-aa9e-2b46c1deaf52",
   "metadata": {},
   "source": [
    "1. **Initialize the MODEL**: just write the name and declare if it is maximization or minimization problem type."
   ]
  },
  {
   "cell_type": "code",
   "execution_count": 4,
   "id": "4436e0c7",
   "metadata": {},
   "outputs": [],
   "source": [
    "model = pp.LpProblem(name='refinery-problem', # just the name\n",
    "                     sense=pp.LpMaximize) # type of problem"
   ]
  },
  {
   "cell_type": "markdown",
   "id": "c001fd3a-190b-45d8-9fa3-c3e21578fa03",
   "metadata": {},
   "source": [
    "2. **Declare the VARIABLES**: The refinery model consists of these _variables_:"
   ]
  },
  {
   "cell_type": "code",
   "execution_count": 5,
   "id": "8533e838-9e02-4ca8-85ef-de557cb1dd7c",
   "metadata": {},
   "outputs": [],
   "source": [
    "# how much gas?\n",
    "Gas = pp.LpVariable(name=\"Gas\",  # just the name\n",
    "                    lowBound=0,  # ensure non-negativity\n",
    "                    cat='Continuous') # here: you accept decimal values\n",
    "\n",
    "# how much oil?\n",
    "Oil = pp.LpVariable(name=\"Oil\",\n",
    "                 lowBound=0,\n",
    "                 cat='Continuous')"
   ]
  },
  {
   "cell_type": "markdown",
   "id": "611438aa-54e1-4cdd-aa77-44702feb498a",
   "metadata": {},
   "source": [
    "3. **Create function to OPTIMIZE**: The function is just the linear combination of the variables and their _given coefficients_: "
   ]
  },
  {
   "cell_type": "code",
   "execution_count": 6,
   "id": "e676c256-353d-4fbd-a206-6914f29ff8ba",
   "metadata": {},
   "outputs": [],
   "source": [
    "GasCoeff=1.9\n",
    "OilCoeff=1.5\n",
    "obj_func = GasCoeff*Gas + OilCoeff*Oil"
   ]
  },
  {
   "cell_type": "markdown",
   "id": "65a5c48f-d28c-489a-bcd4-f97be76b57c7",
   "metadata": {},
   "source": [
    "4. **Represent the constraints**: These are the rules the model (set of variables) must obey:"
   ]
  },
  {
   "cell_type": "code",
   "execution_count": 7,
   "id": "c24146f7-5db5-4606-90fd-9bc010685754",
   "metadata": {},
   "outputs": [],
   "source": [
    "# SUBJECT TO:\n",
    "C1= pp.LpConstraint(name='Gas Constraint',   # just the name\n",
    "                    e= 1*Gas - 2*Oil, rhs=0, # linear combination of constraint and rhs \n",
    "                    sense=pp.LpConstraintGE) # 'rule' >= 0 (LpConstraintGE)\n",
    "C2= pp.LpConstraint(name='Oil Constraint',\n",
    "                    e= 1*Oil, rhs=3000000,\n",
    "                    sense=pp.LpConstraintGE) # 'rule' >= 3000000 (LpConstraintGE)\n",
    "C3= pp.LpConstraint(name='Demand Constraint',\n",
    "                    e= 1*Gas, rhs=6400000,\n",
    "                    sense=pp.LpConstraintLE, )# 'rule' <= 6400000 (LpConstraintLE)"
   ]
  },
  {
   "cell_type": "markdown",
   "id": "10465ba5-03d5-41d0-9e65-b4c13d8a8728",
   "metadata": {},
   "source": [
    "5. **Build MODEL**: Here you add (i) the objective function, and (ii) all the constraints:"
   ]
  },
  {
   "cell_type": "code",
   "execution_count": 8,
   "id": "44dd2783-49c1-44fd-952b-47743c9d4686",
   "metadata": {},
   "outputs": [],
   "source": [
    "model += obj_func\n",
    "model += C1\n",
    "model += C2\n",
    "model += C3\n"
   ]
  },
  {
   "cell_type": "markdown",
   "id": "2a332886-694b-40d8-98d3-e27066b28e96",
   "metadata": {},
   "source": [
    "6. **Solve the MODEL**: Notice we are not using the _default solver_, we are explicitly usig **COIN_CMD**:"
   ]
  },
  {
   "cell_type": "code",
   "execution_count": 9,
   "id": "531d75fa-6e19-4ef4-9170-31aef8b88fa0",
   "metadata": {},
   "outputs": [
    {
     "name": "stdout",
     "output_type": "stream",
     "text": [
      "['GLPK_CMD', 'PYGLPK', 'CPLEX_CMD', 'CPLEX_PY', 'GUROBI', 'GUROBI_CMD', 'MOSEK', 'XPRESS', 'XPRESS', 'XPRESS_PY', 'PULP_CBC_CMD', 'COIN_CMD', 'COINMP_DLL', 'CHOCO_CMD', 'MIPCL_CMD', 'SCIP_CMD', 'FSCIP_CMD', 'SCIP_PY', 'HiGHS', 'HiGHS_CMD', 'COPT', 'COPT_DLL', 'COPT_CMD']\n"
     ]
    }
   ],
   "source": [
    "solver_list = pp.listSolvers()\n",
    "print(solver_list)"
   ]
  },
  {
   "cell_type": "code",
   "execution_count": 10,
   "id": "636442d1-a48c-4a3a-a84d-9f2312f3d473",
   "metadata": {},
   "outputs": [
    {
     "name": "stdout",
     "output_type": "stream",
     "text": [
      "Welcome to the CBC MILP Solver \n",
      "Version: 2.10.3 \n",
      "Build Date: Dec 15 2019 \n",
      "\n",
      "command line - /Users/JoseManuel/opt/anaconda3/envs/CSSmeth_3_10/lib/python3.10/site-packages/pulp/solverdir/cbc/osx/64/cbc /var/folders/2n/bkfhfqq16r78g3hf7pdj56y40000gn/T/c89fee6e56584f20a05834f1999cef53-pulp.mps -max -timeMode elapsed -branch -printingOptions all -solution /var/folders/2n/bkfhfqq16r78g3hf7pdj56y40000gn/T/c89fee6e56584f20a05834f1999cef53-pulp.sol (default strategy 1)\n",
      "At line 2 NAME          MODEL\n",
      "At line 3 ROWS\n",
      "At line 8 COLUMNS\n",
      "At line 15 RHS\n",
      "At line 19 BOUNDS\n",
      "At line 20 ENDATA\n",
      "Problem MODEL has 3 rows, 2 columns and 4 elements\n",
      "Coin0008I MODEL read with 0 errors\n",
      "Option for timeMode changed from cpu to elapsed\n",
      "Presolve 0 (-3) rows, 0 (-2) columns and 0 (-4) elements\n",
      "Empty problem - 0 rows, 0 columns and 0 elements\n",
      "Optimal - objective value 16960000\n",
      "After Postsolve, objective 16960000, infeasibilities - dual 0 (0), primal 0 (0)\n",
      "Optimal objective 16960000 - 0 iterations time 0.002, Presolve 0.00\n",
      "Option for printingOptions changed from normal to all\n",
      "Total time (CPU seconds):       0.00   (Wallclock seconds):       0.00\n",
      "\n"
     ]
    }
   ],
   "source": [
    "# solverToUse = pp.COIN_CMD(msg=False)\n",
    "# model.solve(solver=solverToUse);\n",
    "model.solve();"
   ]
  },
  {
   "cell_type": "markdown",
   "id": "7db07777-25b5-46c9-9d51-f1d0e3ceb709",
   "metadata": {},
   "source": [
    "You can create a summary like this:"
   ]
  },
  {
   "cell_type": "code",
   "execution_count": 18,
   "id": "3a0152d1-cdd5-4426-9ba6-90556a685048",
   "metadata": {},
   "outputs": [
    {
     "data": {
      "text/plain": [
       "{'Model Status': 'Optimal',\n",
       " 'Optimal Solution': 16960000.0,\n",
       " 'Gas': 6400000.0,\n",
       " 'Oil': 3200000.0}"
      ]
     },
     "execution_count": 18,
     "metadata": {},
     "output_type": "execute_result"
    }
   ],
   "source": [
    "import pandas as pd\n",
    "\n",
    "Results={\"Model Status\":pp.LpStatus[model.status]}\n",
    "Results.update({\"Optimal Solution\":pp.value(model.objective)})\n",
    "Results.update({v.name: v.varValue for v in model.variables()})\n",
    "Results"
   ]
  },
  {
   "cell_type": "code",
   "execution_count": 25,
   "id": "651fadcc-cb30-4caa-98e4-f6215c0be7a9",
   "metadata": {},
   "outputs": [
    {
     "data": {
      "text/html": [
       "<style type=\"text/css\">\n",
       "</style>\n",
       "<table id=\"T_631cf\">\n",
       "  <thead>\n",
       "    <tr>\n",
       "      <th class=\"blank level0\" >&nbsp;</th>\n",
       "      <th id=\"T_631cf_level0_col0\" class=\"col_heading level0 col0\" >Optimal Solution</th>\n",
       "      <th id=\"T_631cf_level0_col1\" class=\"col_heading level0 col1\" >Gas</th>\n",
       "      <th id=\"T_631cf_level0_col2\" class=\"col_heading level0 col2\" >Oil</th>\n",
       "    </tr>\n",
       "    <tr>\n",
       "      <th class=\"index_name level0\" >Model Status</th>\n",
       "      <th class=\"blank col0\" >&nbsp;</th>\n",
       "      <th class=\"blank col1\" >&nbsp;</th>\n",
       "      <th class=\"blank col2\" >&nbsp;</th>\n",
       "    </tr>\n",
       "  </thead>\n",
       "  <tbody>\n",
       "    <tr>\n",
       "      <th id=\"T_631cf_level0_row0\" class=\"row_heading level0 row0\" >Optimal</th>\n",
       "      <td id=\"T_631cf_row0_col0\" class=\"data row0 col0\" >16,960,000.0</td>\n",
       "      <td id=\"T_631cf_row0_col1\" class=\"data row0 col1\" >6,400,000.0</td>\n",
       "      <td id=\"T_631cf_row0_col2\" class=\"data row0 col2\" >3,200,000.0</td>\n",
       "    </tr>\n",
       "  </tbody>\n",
       "</table>\n"
      ],
      "text/plain": [
       "<pandas.io.formats.style.Styler at 0x13ea583a0>"
      ]
     },
     "execution_count": 25,
     "metadata": {},
     "output_type": "execute_result"
    }
   ],
   "source": [
    "#or\n",
    "pd.DataFrame.from_dict(Results,orient='index').T.set_index('Model Status').style.format('{:,}')"
   ]
  },
  {
   "cell_type": "code",
   "execution_count": 30,
   "id": "5e05215b-68ac-45e6-b7c8-2c46a28c30b8",
   "metadata": {},
   "outputs": [
    {
     "data": {
      "text/plain": [
       "[{'name': 'Gas_Constraint', 'shadow price': -0.75, 'slack': -0.0},\n",
       " {'name': 'Oil_Constraint', 'shadow price': -0.0, 'slack': -200000.0},\n",
       " {'name': 'Demand_Constraint', 'shadow price': 2.65, 'slack': -0.0}]"
      ]
     },
     "execution_count": 30,
     "metadata": {},
     "output_type": "execute_result"
    }
   ],
   "source": [
    "[{'name':name, 'shadow price':c.pi, 'slack': c.slack} \n",
    "     for name, c in model.constraints.items()]"
   ]
  },
  {
   "cell_type": "code",
   "execution_count": 16,
   "id": "bfc1d779-df0d-42f7-b88c-e8935771110e",
   "metadata": {},
   "outputs": [
    {
     "name": "stdout",
     "output_type": "stream",
     "text": [
      "Model Status: Optimal\n",
      "Gas = 6400000.0\n",
      "Oil = 3200000.0\n",
      "Objective = $ 16960000.0\n",
      "                name  shadow price     slack\n",
      "0     Gas_Constraint         -0.75      -0.0\n",
      "1     Oil_Constraint         -0.00 -200000.0\n",
      "2  Demand_Constraint          2.65      -0.0\n"
     ]
    }
   ],
   "source": [
    "print(\"Model Status: {}\".format(pp.LpStatus[model.status]))\n",
    "for v in model.variables():\n",
    "    print(v.name, \"=\", v.varValue)\n",
    "print(\"Objective = $\", pp.value(model.objective))\n",
    "o = [{'name':name, 'shadow price':c.pi, 'slack': c.slack} \n",
    "     for name, c in model.constraints.items()]\n",
    "print(pd.DataFrame(o))"
   ]
  },
  {
   "cell_type": "markdown",
   "id": "9c025230-ed6e-40b1-ae5c-03bed5c5c0b7",
   "metadata": {},
   "source": [
    "<div class=\"alert-success\">\n",
    "\n",
    "<strong>Exercise: The diet problem</strong> "
   ]
  },
  {
   "cell_type": "code",
   "execution_count": null,
   "id": "a7e1cb7a",
   "metadata": {},
   "outputs": [],
   "source": [
    "%%html\n",
    "<iframe src=\"https://docs.google.com/presentation/d/e/2PACX-1vQBJJTGDErzhlqSfg-keAlqgtYkh1FyTvFZsr1CuvvohZ2gS8VjszmnXNrMML2zJcfygY0ISbbXH3ib/embed?start=false&loop=false&delayms=3000\" frameborder=\"0\" width=\"960\" height=\"569\" allowfullscreen=\"true\" mozallowfullscreen=\"true\" webkitallowfullscreen=\"true\"></iframe>"
   ]
  }
 ],
 "metadata": {
  "kernelspec": {
   "display_name": "Python 3 (ipykernel)",
   "language": "python",
   "name": "python3"
  },
  "language_info": {
   "codemirror_mode": {
    "name": "ipython",
    "version": 3
   },
   "file_extension": ".py",
   "mimetype": "text/x-python",
   "name": "python",
   "nbconvert_exporter": "python",
   "pygments_lexer": "ipython3",
   "version": "3.10.16"
  }
 },
 "nbformat": 4,
 "nbformat_minor": 5
}
